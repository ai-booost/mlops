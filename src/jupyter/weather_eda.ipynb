{
 "cells": [
  {
   "metadata": {
    "ExecuteTime": {
     "end_time": "2025-01-16T09:26:33.001172Z",
     "start_time": "2025-01-16T09:26:32.992002Z"
    }
   },
   "cell_type": "code",
   "source": [
    "import pandas as pd\n",
    "import numpy as np"
   ],
   "id": "aa08f63f73b1b124",
   "outputs": [],
   "execution_count": 7
  },
  {
   "cell_type": "code",
   "id": "initial_id",
   "metadata": {
    "collapsed": true,
    "ExecuteTime": {
     "end_time": "2025-01-16T09:35:55.072308Z",
     "start_time": "2025-01-16T09:35:55.064507Z"
    }
   },
   "source": "file_path = \"../dataset/raw/kma_data_2010-2020.csv\"",
   "outputs": [],
   "execution_count": 21
  },
  {
   "metadata": {
    "ExecuteTime": {
     "end_time": "2025-01-16T09:35:55.588816Z",
     "start_time": "2025-01-16T09:35:55.304399Z"
    }
   },
   "cell_type": "code",
   "source": "df = pd.read_csv(file_path)",
   "id": "d895da9061ff1c13",
   "outputs": [],
   "execution_count": 22
  },
  {
   "metadata": {
    "ExecuteTime": {
     "end_time": "2025-01-16T09:35:56.056522Z",
     "start_time": "2025-01-16T09:35:56.041596Z"
    }
   },
   "cell_type": "code",
   "source": "df.columns",
   "id": "4a087425c20cc2c3",
   "outputs": [
    {
     "data": {
      "text/plain": [
       "Index(['현재날씨코드', '과거날씨코드', '일기코드', '관측시각', '지점번호', '풍향', '풍속', '돌풍방향', '돌풍속도',\n",
       "       '돌풍시각', '현지기압', '해면기압', '기압경향', '기압변화량', '기온', '이슬점온도', '상대습도', '수증기압',\n",
       "       '시간강수량', '일강수량', '누적강수량', '강수강도', '3시간적설', '일적설', '총적설', '전운량', '중하층운량',\n",
       "       '최저운고', '운형', '상층운형', '중층운형', '하층운형', '시정', '일조시간', '일사량', '지면상태',\n",
       "       '지면온도', '5cm지중온도', '10cm지중온도', '20cm지중온도', '30cm지중온도', '해면상태', '파고',\n",
       "       '최대풍력', '강수자료', '관측유형'],\n",
       "      dtype='object')"
      ]
     },
     "execution_count": 23,
     "metadata": {},
     "output_type": "execute_result"
    }
   ],
   "execution_count": 23
  },
  {
   "metadata": {
    "ExecuteTime": {
     "end_time": "2025-01-16T09:35:56.434079Z",
     "start_time": "2025-01-16T09:35:56.414820Z"
    }
   },
   "cell_type": "code",
   "source": "df.head()",
   "id": "82801a32ece3c311",
   "outputs": [
    {
     "data": {
      "text/plain": [
       "   현재날씨코드  과거날씨코드 일기코드          관측시각  지점번호  풍향   풍속  돌풍방향  돌풍속도  돌풍시각  ...  \\\n",
       "0      -9      -9    -  201001020000   108   9  3.0    -9  -9.0    -9  ...   \n",
       "1      -9      -9    -  201001020100   108   7  3.5    -9  -9.0    -9  ...   \n",
       "2      70      72   05  201001020200   108   7  2.8    -9  -9.0    -9  ...   \n",
       "3      71      77   05  201001020300   108   7  3.2    -9  -9.0    -9  ...   \n",
       "4      22      72   05  201001020400   108   7  2.9    -9  -9.0    -9  ...   \n",
       "\n",
       "   지면온도  5cm지중온도  10cm지중온도  20cm지중온도  30cm지중온도  해면상태   파고  최대풍력  강수자료  관측유형  \n",
       "0  -2.7     -2.0      -1.0      -0.4       0.4    -9 -9.0    -9     3     2  \n",
       "1  -2.7     -2.0      -1.1      -0.5       0.4    -9 -9.0    -9     3    -9  \n",
       "2  -2.6     -2.0      -1.1      -0.5       0.4    -9 -9.0    -9     3     1  \n",
       "3  -2.5     -1.9      -1.0      -0.4       0.4    -9 -9.0    -9     4     1  \n",
       "4  -2.5     -1.9      -1.0      -0.4       0.4    -9 -9.0    -9     3     1  \n",
       "\n",
       "[5 rows x 46 columns]"
      ],
      "text/html": [
       "<div>\n",
       "<style scoped>\n",
       "    .dataframe tbody tr th:only-of-type {\n",
       "        vertical-align: middle;\n",
       "    }\n",
       "\n",
       "    .dataframe tbody tr th {\n",
       "        vertical-align: top;\n",
       "    }\n",
       "\n",
       "    .dataframe thead th {\n",
       "        text-align: right;\n",
       "    }\n",
       "</style>\n",
       "<table border=\"1\" class=\"dataframe\">\n",
       "  <thead>\n",
       "    <tr style=\"text-align: right;\">\n",
       "      <th></th>\n",
       "      <th>현재날씨코드</th>\n",
       "      <th>과거날씨코드</th>\n",
       "      <th>일기코드</th>\n",
       "      <th>관측시각</th>\n",
       "      <th>지점번호</th>\n",
       "      <th>풍향</th>\n",
       "      <th>풍속</th>\n",
       "      <th>돌풍방향</th>\n",
       "      <th>돌풍속도</th>\n",
       "      <th>돌풍시각</th>\n",
       "      <th>...</th>\n",
       "      <th>지면온도</th>\n",
       "      <th>5cm지중온도</th>\n",
       "      <th>10cm지중온도</th>\n",
       "      <th>20cm지중온도</th>\n",
       "      <th>30cm지중온도</th>\n",
       "      <th>해면상태</th>\n",
       "      <th>파고</th>\n",
       "      <th>최대풍력</th>\n",
       "      <th>강수자료</th>\n",
       "      <th>관측유형</th>\n",
       "    </tr>\n",
       "  </thead>\n",
       "  <tbody>\n",
       "    <tr>\n",
       "      <th>0</th>\n",
       "      <td>-9</td>\n",
       "      <td>-9</td>\n",
       "      <td>-</td>\n",
       "      <td>201001020000</td>\n",
       "      <td>108</td>\n",
       "      <td>9</td>\n",
       "      <td>3.0</td>\n",
       "      <td>-9</td>\n",
       "      <td>-9.0</td>\n",
       "      <td>-9</td>\n",
       "      <td>...</td>\n",
       "      <td>-2.7</td>\n",
       "      <td>-2.0</td>\n",
       "      <td>-1.0</td>\n",
       "      <td>-0.4</td>\n",
       "      <td>0.4</td>\n",
       "      <td>-9</td>\n",
       "      <td>-9.0</td>\n",
       "      <td>-9</td>\n",
       "      <td>3</td>\n",
       "      <td>2</td>\n",
       "    </tr>\n",
       "    <tr>\n",
       "      <th>1</th>\n",
       "      <td>-9</td>\n",
       "      <td>-9</td>\n",
       "      <td>-</td>\n",
       "      <td>201001020100</td>\n",
       "      <td>108</td>\n",
       "      <td>7</td>\n",
       "      <td>3.5</td>\n",
       "      <td>-9</td>\n",
       "      <td>-9.0</td>\n",
       "      <td>-9</td>\n",
       "      <td>...</td>\n",
       "      <td>-2.7</td>\n",
       "      <td>-2.0</td>\n",
       "      <td>-1.1</td>\n",
       "      <td>-0.5</td>\n",
       "      <td>0.4</td>\n",
       "      <td>-9</td>\n",
       "      <td>-9.0</td>\n",
       "      <td>-9</td>\n",
       "      <td>3</td>\n",
       "      <td>-9</td>\n",
       "    </tr>\n",
       "    <tr>\n",
       "      <th>2</th>\n",
       "      <td>70</td>\n",
       "      <td>72</td>\n",
       "      <td>05</td>\n",
       "      <td>201001020200</td>\n",
       "      <td>108</td>\n",
       "      <td>7</td>\n",
       "      <td>2.8</td>\n",
       "      <td>-9</td>\n",
       "      <td>-9.0</td>\n",
       "      <td>-9</td>\n",
       "      <td>...</td>\n",
       "      <td>-2.6</td>\n",
       "      <td>-2.0</td>\n",
       "      <td>-1.1</td>\n",
       "      <td>-0.5</td>\n",
       "      <td>0.4</td>\n",
       "      <td>-9</td>\n",
       "      <td>-9.0</td>\n",
       "      <td>-9</td>\n",
       "      <td>3</td>\n",
       "      <td>1</td>\n",
       "    </tr>\n",
       "    <tr>\n",
       "      <th>3</th>\n",
       "      <td>71</td>\n",
       "      <td>77</td>\n",
       "      <td>05</td>\n",
       "      <td>201001020300</td>\n",
       "      <td>108</td>\n",
       "      <td>7</td>\n",
       "      <td>3.2</td>\n",
       "      <td>-9</td>\n",
       "      <td>-9.0</td>\n",
       "      <td>-9</td>\n",
       "      <td>...</td>\n",
       "      <td>-2.5</td>\n",
       "      <td>-1.9</td>\n",
       "      <td>-1.0</td>\n",
       "      <td>-0.4</td>\n",
       "      <td>0.4</td>\n",
       "      <td>-9</td>\n",
       "      <td>-9.0</td>\n",
       "      <td>-9</td>\n",
       "      <td>4</td>\n",
       "      <td>1</td>\n",
       "    </tr>\n",
       "    <tr>\n",
       "      <th>4</th>\n",
       "      <td>22</td>\n",
       "      <td>72</td>\n",
       "      <td>05</td>\n",
       "      <td>201001020400</td>\n",
       "      <td>108</td>\n",
       "      <td>7</td>\n",
       "      <td>2.9</td>\n",
       "      <td>-9</td>\n",
       "      <td>-9.0</td>\n",
       "      <td>-9</td>\n",
       "      <td>...</td>\n",
       "      <td>-2.5</td>\n",
       "      <td>-1.9</td>\n",
       "      <td>-1.0</td>\n",
       "      <td>-0.4</td>\n",
       "      <td>0.4</td>\n",
       "      <td>-9</td>\n",
       "      <td>-9.0</td>\n",
       "      <td>-9</td>\n",
       "      <td>3</td>\n",
       "      <td>1</td>\n",
       "    </tr>\n",
       "  </tbody>\n",
       "</table>\n",
       "<p>5 rows × 46 columns</p>\n",
       "</div>"
      ]
     },
     "execution_count": 24,
     "metadata": {},
     "output_type": "execute_result"
    }
   ],
   "execution_count": 24
  },
  {
   "metadata": {
    "ExecuteTime": {
     "end_time": "2025-01-16T09:49:36.036368Z",
     "start_time": "2025-01-16T09:49:36.027277Z"
    }
   },
   "cell_type": "code",
   "source": [
    "# print(df['강수강도'].value_counts()) # 모두 -9\n",
    "# print(df['일강수량'].value_counts())\n",
    "# print(df['시간강수량'].value_counts().sort_index())\n",
    "# print(df['강수강도'].value_counts())\n",
    "# print(df['일적설'].value_counts())\n",
    "# print(df['총적설'].value_counts())\n",
    "# print(df['전운량'].value_counts())\n",
    "# print(df['시정'].value_counts().sort_index())\n",
    "# print(df['상대습도'].value_counts().sort_index())\n",
    "print(df['전운량'].value_counts().sort_index())\n",
    "# print(df['이슬점온도'].value_counts())\n",
    "# print(df['기온'].value_counts())"
   ],
   "id": "95ed18ce8ae1a333",
   "outputs": [
    {
     "name": "stdout",
     "output_type": "stream",
     "text": [
      "전운량\n",
      "-9     16161\n",
      " 0     19203\n",
      " 1      3007\n",
      " 2      2757\n",
      " 3      3730\n",
      " 4      2916\n",
      " 5      2276\n",
      " 6      4091\n",
      " 7      4906\n",
      " 8      6560\n",
      " 9      5781\n",
      " 10    14583\n",
      "Name: count, dtype: int64\n"
     ]
    }
   ],
   "execution_count": 60
  },
  {
   "metadata": {
    "ExecuteTime": {
     "end_time": "2025-01-16T09:41:10.618050Z",
     "start_time": "2025-01-16T09:41:10.578309Z"
    }
   },
   "cell_type": "code",
   "source": "len(df[(df['시정'] > 0) & (df['시정'] <= 1000)])",
   "id": "df82cd4e683f99dd",
   "outputs": [
    {
     "data": {
      "text/plain": [
       "24132"
      ]
     },
     "execution_count": 42,
     "metadata": {},
     "output_type": "execute_result"
    }
   ],
   "execution_count": 42
  },
  {
   "metadata": {
    "ExecuteTime": {
     "end_time": "2025-01-16T09:35:58.002927Z",
     "start_time": "2025-01-16T09:35:57.997077Z"
    }
   },
   "cell_type": "code",
   "source": [
    "# ['일적설','일강수량','전운량']\n",
    "# ['현재날씨코드', '과거날씨코드', '일기코드', '관측시각', '지점번호', '풍향', '풍속', '돌풍방향', '돌풍속도',\n",
    "#        '돌풍시각', '현지기압', '해면기압', '기압경향', '기압변화량', '기온', '이슬점온도', '상대습도', '수증기압',\n",
    "#        '시간강수량', '일강수량', '누적강수량', '강수강도', '3시간적설', '일적설', '총적설', '전운량', '중하층운량',\n",
    "#        '최저운고', '운형', '상층운형', '중층운형', '하층운형', '시정', '일조시간', '일사량', '지면상태',\n",
    "#        '지면온도', '5cm지중온도', '10cm지중온도', '20cm지중온도', '30cm지중온도', '해면상태', '파고',\n",
    "#        '최대풍력', '강수자료', '관측유형', '날씨']"
   ],
   "id": "f004d82ba7b7c5f7",
   "outputs": [],
   "execution_count": 26
  },
  {
   "metadata": {
    "ExecuteTime": {
     "end_time": "2025-01-16T09:35:58.451963Z",
     "start_time": "2025-01-16T09:35:58.429950Z"
    }
   },
   "cell_type": "code",
   "source": [
    "df['현재날씨코드'] = df['현재날씨코드'].replace(-9, np.nan)\n",
    "df['과거날씨코드'] = df['과거날씨코드'].replace(-9, np.nan)\n",
    "df['3시간적설'] = df['3시간적설'].replace(-9, np.nan)\n",
    "df['일적설'] = df['일적설'].replace(-9, np.nan)\n",
    "df['시간강수량'] = df['시간강수량'].replace(-9, np.nan)\n",
    "df['시정'] = df['시정'].replace(-9, np.nan)\n",
    "df['상대습도'] = df['상대습도'].replace(-9, np.nan)"
   ],
   "id": "38b54d33d4c6f019",
   "outputs": [],
   "execution_count": 27
  },
  {
   "metadata": {
    "ExecuteTime": {
     "end_time": "2025-01-16T09:36:00.890915Z",
     "start_time": "2025-01-16T09:36:00.870891Z"
    }
   },
   "cell_type": "code",
   "source": "df.isnull().sum()",
   "id": "a27d2f463d9d1368",
   "outputs": [
    {
     "data": {
      "text/plain": [
       "현재날씨코드      61421\n",
       "과거날씨코드      61202\n",
       "일기코드            0\n",
       "관측시각            0\n",
       "지점번호            0\n",
       "풍향              0\n",
       "풍속              0\n",
       "돌풍방향            0\n",
       "돌풍속도            0\n",
       "돌풍시각            0\n",
       "현지기압            0\n",
       "해면기압            0\n",
       "기압경향            0\n",
       "기압변화량           0\n",
       "기온              0\n",
       "이슬점온도           0\n",
       "상대습도            0\n",
       "수증기압            0\n",
       "시간강수량           0\n",
       "일강수량            0\n",
       "누적강수량           0\n",
       "강수강도            0\n",
       "3시간적설           0\n",
       "일적설             0\n",
       "총적설             0\n",
       "전운량             0\n",
       "중하층운량           0\n",
       "최저운고            0\n",
       "운형              0\n",
       "상층운형            0\n",
       "중층운형            0\n",
       "하층운형            0\n",
       "시정              0\n",
       "일조시간            0\n",
       "일사량             0\n",
       "지면상태            0\n",
       "지면온도            0\n",
       "5cm지중온도         0\n",
       "10cm지중온도        0\n",
       "20cm지중온도        0\n",
       "30cm지중온도        0\n",
       "해면상태            0\n",
       "파고              0\n",
       "최대풍력            0\n",
       "강수자료            0\n",
       "관측유형            0\n",
       "dtype: int64"
      ]
     },
     "execution_count": 28,
     "metadata": {},
     "output_type": "execute_result"
    }
   ],
   "execution_count": 28
  },
  {
   "metadata": {
    "ExecuteTime": {
     "end_time": "2025-01-16T09:46:42.545295Z",
     "start_time": "2025-01-16T09:46:41.299625Z"
    }
   },
   "cell_type": "code",
   "source": [
    "df['눈'] = df.apply(lambda row: 1 if row['일적설'] > 0 else 0, axis=1)\n",
    "df['비'] = df.apply(lambda row: 1 if row['시간강수량'] > 0 else 0, axis=1)\n",
    "df['맑음'] = df.apply(lambda row: 1 if (row['일강수량'] <= 0) else 0, axis=1)\n",
    "df['안개'] = df.apply(lambda row: 1 if (row['시정'] > 0 & row['시정'] <= 1000) else 0, axis=1)"
   ],
   "id": "b1871df26b11207",
   "outputs": [],
   "execution_count": 58
  },
  {
   "metadata": {
    "ExecuteTime": {
     "end_time": "2025-01-16T09:46:42.559712Z",
     "start_time": "2025-01-16T09:46:42.553007Z"
    }
   },
   "cell_type": "code",
   "source": [
    "print(df['눈'].value_counts())\n",
    "print(df['비'].value_counts())\n",
    "print(df['맑음'].value_counts())\n",
    "print(df['안개'].value_counts())"
   ],
   "id": "ad7755eb7a4aa7ff",
   "outputs": [
    {
     "name": "stdout",
     "output_type": "stream",
     "text": [
      "눈\n",
      "0    84844\n",
      "1     1127\n",
      "Name: count, dtype: int64\n",
      "비\n",
      "0    81032\n",
      "1     4939\n",
      "Name: count, dtype: int64\n",
      "맑음\n",
      "1    68141\n",
      "0    17830\n",
      "Name: count, dtype: int64\n",
      "안개\n",
      "1    76156\n",
      "0     9815\n",
      "Name: count, dtype: int64\n"
     ]
    }
   ],
   "execution_count": 59
  },
  {
   "metadata": {
    "ExecuteTime": {
     "end_time": "2025-01-16T14:14:50.719223Z",
     "start_time": "2025-01-16T14:14:50.626685Z"
    }
   },
   "cell_type": "code",
   "source": "select_df = df[['관측시각','시간강수량', '일강수량', '누적강수량','풍향','풍속','기온','일적설','총적설','상대습도','기압변화량']]",
   "id": "fd73a3574f3dad1b",
   "outputs": [],
   "execution_count": 61
  },
  {
   "metadata": {
    "ExecuteTime": {
     "end_time": "2025-01-16T14:17:04.305765Z",
     "start_time": "2025-01-16T14:17:04.255997Z"
    }
   },
   "cell_type": "code",
   "source": [
    "for col in select_df.columns:\n",
    "    # 음수인거 카운트\n",
    "    negative_value_count = select_df[select_df[col] < 0][col].count()\n",
    "    print(f\"{col} : {negative_value_count}\")"
   ],
   "id": "6236bb748f081534",
   "outputs": [
    {
     "name": "stdout",
     "output_type": "stream",
     "text": [
      "관측시각 : 0\n",
      "시간강수량 : 77374\n",
      "일강수량 : 62435\n",
      "누적강수량 : 62443\n",
      "풍향 : 51\n",
      "풍속 : 51\n",
      "기온 : 13641\n",
      "일적설 : 84762\n",
      "총적설 : 81196\n",
      "상대습도 : 5\n",
      "기압변화량 : 70564\n"
     ]
    }
   ],
   "execution_count": 66
  },
  {
   "metadata": {
    "ExecuteTime": {
     "end_time": "2025-01-16T14:21:27.992427Z",
     "start_time": "2025-01-16T14:21:27.984607Z"
    }
   },
   "cell_type": "code",
   "source": "select_df['상대습도'].value_counts().sort_index()",
   "id": "d42a319fbb4135b",
   "outputs": [
    {
     "data": {
      "text/plain": [
       "상대습도\n",
       "0.0        5\n",
       "7.0        1\n",
       "8.0        1\n",
       "9.0        2\n",
       "10.0       9\n",
       "        ... \n",
       "96.0     423\n",
       "97.0     432\n",
       "98.0     253\n",
       "99.0     162\n",
       "100.0    332\n",
       "Name: count, Length: 107, dtype: int64"
      ]
     },
     "execution_count": 74,
     "metadata": {},
     "output_type": "execute_result"
    }
   ],
   "execution_count": 74
  },
  {
   "metadata": {
    "ExecuteTime": {
     "end_time": "2025-01-16T14:21:26.024578Z",
     "start_time": "2025-01-16T14:21:26.017679Z"
    }
   },
   "cell_type": "code",
   "source": "select_df['풍향'].value_counts().sort_index()",
   "id": "2b001de3b0d5a299",
   "outputs": [
    {
     "data": {
      "text/plain": [
       "풍향\n",
       "0      2831\n",
       "2      4770\n",
       "5      8472\n",
       "7      9556\n",
       "9      2949\n",
       "11     1598\n",
       "14     1094\n",
       "16      986\n",
       "18     1213\n",
       "20     3435\n",
       "23     5578\n",
       "25     6535\n",
       "27    13827\n",
       "29    12926\n",
       "32     5291\n",
       "34     2709\n",
       "36     2201\n",
       "Name: count, dtype: int64"
      ]
     },
     "execution_count": 73,
     "metadata": {},
     "output_type": "execute_result"
    }
   ],
   "execution_count": 73
  },
  {
   "metadata": {
    "ExecuteTime": {
     "end_time": "2025-01-16T14:21:15.097429Z",
     "start_time": "2025-01-16T14:21:15.057355Z"
    }
   },
   "cell_type": "code",
   "source": [
    "# 음수를 0으로 대체할 컬럼 목록\n",
    "columns_to_replace = ['시간강수량', '일강수량', '누적강수량', '풍속', '풍향', '일적설', '총적설', '상대습도']\n",
    "\n",
    "# 음수를 0으로 대체\n",
    "select_df[columns_to_replace] = select_df[columns_to_replace].clip(lower=0)\n"
   ],
   "id": "76cb6e0a54e73997",
   "outputs": [
    {
     "name": "stderr",
     "output_type": "stream",
     "text": [
      "/var/folders/zw/_n2013wn763fp6tt7wpy6xdw0000gn/T/ipykernel_26761/877304210.py:5: SettingWithCopyWarning: \n",
      "A value is trying to be set on a copy of a slice from a DataFrame.\n",
      "Try using .loc[row_indexer,col_indexer] = value instead\n",
      "\n",
      "See the caveats in the documentation: https://pandas.pydata.org/pandas-docs/stable/user_guide/indexing.html#returning-a-view-versus-a-copy\n",
      "  select_df[columns_to_replace] = select_df[columns_to_replace].clip(lower=0)\n"
     ]
    }
   ],
   "execution_count": 72
  },
  {
   "metadata": {
    "ExecuteTime": {
     "end_time": "2025-01-16T14:16:12.590248Z",
     "start_time": "2025-01-16T14:16:12.557858Z"
    }
   },
   "cell_type": "code",
   "source": "negative_values_df = select_df[select_df.lt(0).any(axis=1)]\n",
   "id": "c6089185410aab1c",
   "outputs": [],
   "execution_count": 64
  },
  {
   "metadata": {
    "ExecuteTime": {
     "end_time": "2025-01-16T14:16:15.784287Z",
     "start_time": "2025-01-16T14:16:15.771315Z"
    }
   },
   "cell_type": "code",
   "source": "negative_values_df",
   "id": "155fd442a3318097",
   "outputs": [
    {
     "data": {
      "text/plain": [
       "               관측시각  시간강수량  일강수량  누적강수량  풍향   풍속   기온  일적설  총적설  상대습도  기압변화량\n",
       "0      201001020000   -9.0  -9.0   -9.0   9  3.0 -4.5 -9.0  1.9  58.0   -0.4\n",
       "1      201001020100   -9.0  -9.0   -9.0   7  3.5 -4.7 -9.0 -9.0  67.0   -9.0\n",
       "2      201001020200   -9.0   0.0    0.0   7  2.8 -4.7 -9.0  1.9  72.0   -9.0\n",
       "3      201001020300    0.1   0.1    0.1   7  3.2 -4.8  0.2  2.1  84.0   -1.1\n",
       "4      201001020400   -9.0   0.1    0.1   7  2.9 -4.5  0.2  2.1  83.0   -9.0\n",
       "...             ...    ...   ...    ...  ..  ...  ...  ...  ...   ...    ...\n",
       "85966  201912311900   -9.0   0.0    0.0  29  1.7 -6.9 -9.0 -9.0  38.0   -9.0\n",
       "85967  201912312000   -9.0   0.0    0.0  29  2.9 -7.0 -9.0 -9.0  41.0   -9.0\n",
       "85968  201912312100   -9.0   0.0    0.0   2  0.8 -7.4 -9.0 -9.0  43.0   -0.1\n",
       "85969  201912312200   -9.0   0.0    0.0   0  0.0 -8.2 -9.0 -9.0  42.0   -9.0\n",
       "85970  201912312300   -9.0   0.0    0.0   0  0.0 -7.4 -9.0 -9.0  45.0   -9.0\n",
       "\n",
       "[85947 rows x 11 columns]"
      ],
      "text/html": [
       "<div>\n",
       "<style scoped>\n",
       "    .dataframe tbody tr th:only-of-type {\n",
       "        vertical-align: middle;\n",
       "    }\n",
       "\n",
       "    .dataframe tbody tr th {\n",
       "        vertical-align: top;\n",
       "    }\n",
       "\n",
       "    .dataframe thead th {\n",
       "        text-align: right;\n",
       "    }\n",
       "</style>\n",
       "<table border=\"1\" class=\"dataframe\">\n",
       "  <thead>\n",
       "    <tr style=\"text-align: right;\">\n",
       "      <th></th>\n",
       "      <th>관측시각</th>\n",
       "      <th>시간강수량</th>\n",
       "      <th>일강수량</th>\n",
       "      <th>누적강수량</th>\n",
       "      <th>풍향</th>\n",
       "      <th>풍속</th>\n",
       "      <th>기온</th>\n",
       "      <th>일적설</th>\n",
       "      <th>총적설</th>\n",
       "      <th>상대습도</th>\n",
       "      <th>기압변화량</th>\n",
       "    </tr>\n",
       "  </thead>\n",
       "  <tbody>\n",
       "    <tr>\n",
       "      <th>0</th>\n",
       "      <td>201001020000</td>\n",
       "      <td>-9.0</td>\n",
       "      <td>-9.0</td>\n",
       "      <td>-9.0</td>\n",
       "      <td>9</td>\n",
       "      <td>3.0</td>\n",
       "      <td>-4.5</td>\n",
       "      <td>-9.0</td>\n",
       "      <td>1.9</td>\n",
       "      <td>58.0</td>\n",
       "      <td>-0.4</td>\n",
       "    </tr>\n",
       "    <tr>\n",
       "      <th>1</th>\n",
       "      <td>201001020100</td>\n",
       "      <td>-9.0</td>\n",
       "      <td>-9.0</td>\n",
       "      <td>-9.0</td>\n",
       "      <td>7</td>\n",
       "      <td>3.5</td>\n",
       "      <td>-4.7</td>\n",
       "      <td>-9.0</td>\n",
       "      <td>-9.0</td>\n",
       "      <td>67.0</td>\n",
       "      <td>-9.0</td>\n",
       "    </tr>\n",
       "    <tr>\n",
       "      <th>2</th>\n",
       "      <td>201001020200</td>\n",
       "      <td>-9.0</td>\n",
       "      <td>0.0</td>\n",
       "      <td>0.0</td>\n",
       "      <td>7</td>\n",
       "      <td>2.8</td>\n",
       "      <td>-4.7</td>\n",
       "      <td>-9.0</td>\n",
       "      <td>1.9</td>\n",
       "      <td>72.0</td>\n",
       "      <td>-9.0</td>\n",
       "    </tr>\n",
       "    <tr>\n",
       "      <th>3</th>\n",
       "      <td>201001020300</td>\n",
       "      <td>0.1</td>\n",
       "      <td>0.1</td>\n",
       "      <td>0.1</td>\n",
       "      <td>7</td>\n",
       "      <td>3.2</td>\n",
       "      <td>-4.8</td>\n",
       "      <td>0.2</td>\n",
       "      <td>2.1</td>\n",
       "      <td>84.0</td>\n",
       "      <td>-1.1</td>\n",
       "    </tr>\n",
       "    <tr>\n",
       "      <th>4</th>\n",
       "      <td>201001020400</td>\n",
       "      <td>-9.0</td>\n",
       "      <td>0.1</td>\n",
       "      <td>0.1</td>\n",
       "      <td>7</td>\n",
       "      <td>2.9</td>\n",
       "      <td>-4.5</td>\n",
       "      <td>0.2</td>\n",
       "      <td>2.1</td>\n",
       "      <td>83.0</td>\n",
       "      <td>-9.0</td>\n",
       "    </tr>\n",
       "    <tr>\n",
       "      <th>...</th>\n",
       "      <td>...</td>\n",
       "      <td>...</td>\n",
       "      <td>...</td>\n",
       "      <td>...</td>\n",
       "      <td>...</td>\n",
       "      <td>...</td>\n",
       "      <td>...</td>\n",
       "      <td>...</td>\n",
       "      <td>...</td>\n",
       "      <td>...</td>\n",
       "      <td>...</td>\n",
       "    </tr>\n",
       "    <tr>\n",
       "      <th>85966</th>\n",
       "      <td>201912311900</td>\n",
       "      <td>-9.0</td>\n",
       "      <td>0.0</td>\n",
       "      <td>0.0</td>\n",
       "      <td>29</td>\n",
       "      <td>1.7</td>\n",
       "      <td>-6.9</td>\n",
       "      <td>-9.0</td>\n",
       "      <td>-9.0</td>\n",
       "      <td>38.0</td>\n",
       "      <td>-9.0</td>\n",
       "    </tr>\n",
       "    <tr>\n",
       "      <th>85967</th>\n",
       "      <td>201912312000</td>\n",
       "      <td>-9.0</td>\n",
       "      <td>0.0</td>\n",
       "      <td>0.0</td>\n",
       "      <td>29</td>\n",
       "      <td>2.9</td>\n",
       "      <td>-7.0</td>\n",
       "      <td>-9.0</td>\n",
       "      <td>-9.0</td>\n",
       "      <td>41.0</td>\n",
       "      <td>-9.0</td>\n",
       "    </tr>\n",
       "    <tr>\n",
       "      <th>85968</th>\n",
       "      <td>201912312100</td>\n",
       "      <td>-9.0</td>\n",
       "      <td>0.0</td>\n",
       "      <td>0.0</td>\n",
       "      <td>2</td>\n",
       "      <td>0.8</td>\n",
       "      <td>-7.4</td>\n",
       "      <td>-9.0</td>\n",
       "      <td>-9.0</td>\n",
       "      <td>43.0</td>\n",
       "      <td>-0.1</td>\n",
       "    </tr>\n",
       "    <tr>\n",
       "      <th>85969</th>\n",
       "      <td>201912312200</td>\n",
       "      <td>-9.0</td>\n",
       "      <td>0.0</td>\n",
       "      <td>0.0</td>\n",
       "      <td>0</td>\n",
       "      <td>0.0</td>\n",
       "      <td>-8.2</td>\n",
       "      <td>-9.0</td>\n",
       "      <td>-9.0</td>\n",
       "      <td>42.0</td>\n",
       "      <td>-9.0</td>\n",
       "    </tr>\n",
       "    <tr>\n",
       "      <th>85970</th>\n",
       "      <td>201912312300</td>\n",
       "      <td>-9.0</td>\n",
       "      <td>0.0</td>\n",
       "      <td>0.0</td>\n",
       "      <td>0</td>\n",
       "      <td>0.0</td>\n",
       "      <td>-7.4</td>\n",
       "      <td>-9.0</td>\n",
       "      <td>-9.0</td>\n",
       "      <td>45.0</td>\n",
       "      <td>-9.0</td>\n",
       "    </tr>\n",
       "  </tbody>\n",
       "</table>\n",
       "<p>85947 rows × 11 columns</p>\n",
       "</div>"
      ]
     },
     "execution_count": 65,
     "metadata": {},
     "output_type": "execute_result"
    }
   ],
   "execution_count": 65
  },
  {
   "metadata": {},
   "cell_type": "code",
   "outputs": [],
   "execution_count": null,
   "source": "",
   "id": "e42ee2016ea9e7bf"
  }
 ],
 "metadata": {
  "kernelspec": {
   "display_name": "Python 3",
   "language": "python",
   "name": "python3"
  },
  "language_info": {
   "codemirror_mode": {
    "name": "ipython",
    "version": 2
   },
   "file_extension": ".py",
   "mimetype": "text/x-python",
   "name": "python",
   "nbconvert_exporter": "python",
   "pygments_lexer": "ipython2",
   "version": "2.7.6"
  }
 },
 "nbformat": 4,
 "nbformat_minor": 5
}
